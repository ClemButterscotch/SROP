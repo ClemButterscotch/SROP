{
 "cells": [
  {
   "cell_type": "markdown",
   "metadata": {},
   "source": [
    "# SROP Winter 2025"
   ]
  },
  {
   "cell_type": "markdown",
   "metadata": {},
   "source": [
    "### Dataset loading"
   ]
  },
  {
   "cell_type": "code",
   "execution_count": 3,
   "metadata": {},
   "outputs": [],
   "source": [
    "import numpy as np\n",
    "import torch\n",
    "from torch import nn, optim\n",
    "import torch.nn.functional as F\n",
    "import torchvision\n",
    "import matplotlib.pyplot as plt\n",
    "import tqdm\n",
    "from torch.utils.data import DataLoader, Subset\n",
    "from sklearn.model_selection import train_test_split\n",
    "from torchsummary import summary\n",
    "import struct"
   ]
  },
  {
   "cell_type": "code",
   "execution_count": 4,
   "metadata": {},
   "outputs": [
    {
     "name": "stdout",
     "output_type": "stream",
     "text": [
      "Using device: cpu\n"
     ]
    }
   ],
   "source": [
    "DEVICE = \"mps\" if torch.backends.mps.is_available() else \"cuda\" if torch.cuda.is_available() else \"cpu\"\n",
    "print(f\"Using device: {DEVICE}\")"
   ]
  },
  {
   "cell_type": "code",
   "execution_count": 5,
   "metadata": {},
   "outputs": [
    {
     "name": "stdout",
     "output_type": "stream",
     "text": [
      "Number of training batches: 106\n",
      "Number of validation batches: 12\n",
      "Number of test batches: 40\n"
     ]
    }
   ],
   "source": [
    "train_dataset = torchvision.datasets.FashionMNIST(\n",
    "    'data/', train=True, download=True,\n",
    "    transform=torchvision.transforms.Compose([\n",
    "        torchvision.transforms.ToTensor(),\n",
    "        torchvision.transforms.Normalize((0.1307,), (0.3081,))\n",
    "    ])\n",
    ")\n",
    "test_dataset = torchvision.datasets.FashionMNIST(\n",
    "    'data/', train=False, download=True,\n",
    "    transform=torchvision.transforms.Compose([\n",
    "        torchvision.transforms.ToTensor(),\n",
    "        torchvision.transforms.Normalize((0.1307,), (0.3081,))\n",
    "    ])\n",
    ")\n",
    "\n",
    "# Create a 10% validation set using stratification.\n",
    "train_indices, val_indices, _, _ = train_test_split(\n",
    "    range(len(train_dataset)),\n",
    "    train_dataset.targets,\n",
    "    stratify=train_dataset.targets,\n",
    "    test_size=0.1\n",
    ")\n",
    "train_split = Subset(train_dataset, train_indices)\n",
    "val_split = Subset(train_dataset, val_indices)\n",
    "\n",
    "# Update the training set transform to include data augmentation.\n",
    "augment_transform = torchvision.transforms.Compose([\n",
    "    torchvision.transforms.RandomHorizontalFlip(),\n",
    "    torchvision.transforms.RandomAffine(degrees=5, translate=(0.05, 0.05), scale=(0.95, 1.05), shear=0.05),\n",
    "    torchvision.transforms.ColorJitter(brightness=0.1, contrast=0.1),\n",
    "    torchvision.transforms.ToTensor(),\n",
    "    torchvision.transforms.Normalize((0.1307,), (0.3081,))\n",
    "])\n",
    "train_split.dataset.transform = augment_transform\n",
    "\n",
    "# Create DataLoader objects.\n",
    "train_batch_size = 512\n",
    "test_batch_size  = 256\n",
    "train_batches = DataLoader(train_split, batch_size=train_batch_size, shuffle=True)\n",
    "val_batches   = DataLoader(val_split, batch_size=train_batch_size, shuffle=True)\n",
    "test_batches  = DataLoader(test_dataset, batch_size=test_batch_size, shuffle=False)\n",
    "\n",
    "print(\"Number of training batches:\", len(train_batches))\n",
    "print(\"Number of validation batches:\", len(val_batches))\n",
    "print(\"Number of test batches:\", len(test_batches))"
   ]
  },
  {
   "cell_type": "markdown",
   "metadata": {},
   "source": [
    "Data is now formatted and loaded."
   ]
  },
  {
   "cell_type": "markdown",
   "metadata": {},
   "source": [
    "\n",
    "AI-generated code to set printing color"
   ]
  },
  {
   "cell_type": "code",
   "execution_count": 6,
   "metadata": {},
   "outputs": [],
   "source": [
    "def set_color(r, g, b, bg=False):\n",
    "    \"\"\"\n",
    "    Sets the text or background color using RGB values.\n",
    "\n",
    "    Args:\n",
    "        r: Red value (0-255).\n",
    "        g: Green value (0-255).\n",
    "        b: Blue value (0-255).\n",
    "        bg: If True, sets the background color; otherwise, sets the text color.\n",
    "    \"\"\"\n",
    "    type = 48 if bg else 38\n",
    "    print(f\"\\033[{type};2;{r};{g};{b}m\", end=\"\")"
   ]
  },
  {
   "cell_type": "code",
   "execution_count": null,
   "metadata": {},
   "outputs": [],
   "source": [
    "with open('data/FashionMNIST/raw/train-images-idx3-ubyte','rb') as f:\n",
    "    magic, size = struct.unpack(\">II\", f.read(8))\n",
    "    nrows, ncols = struct.unpack(\">II\", f.read(8))\n",
    "    data = np.fromfile(f, dtype=np.dtype(np.uint8).newbyteorder('>'))\n",
    "    # print(data.shape) # (47040000,)\n",
    "    Xtraindata = np.transpose(data.reshape((size, nrows*ncols)))\n",
    "\n",
    "with open('data/FashionMNIST/raw/train-labels-idx1-ubyte','rb') as f:\n",
    "    magic, size = struct.unpack(\">II\", f.read(8))\n",
    "    Ylabeldata = np.fromfile(f, dtype=np.dtype(np.uint8).newbyteorder('>'))\n",
    "    # print(data.shape) # (47040000,)\n",
    "\n",
    "imgIndex = 0\n",
    "\n",
    "for row in range(28):\n",
    "    for cell in range(28):\n",
    "        pixelBrightness = Xtraindata[row*28+cell][imgIndex]\n",
    "        set_color(pixelBrightness,pixelBrightness,pixelBrightness,True)\n",
    "        print(' * ',end='')\n",
    "    print()\n",
    "print(Ylabeldata[imgIndex])"
   ]
  },
  {
   "cell_type": "code",
   "execution_count": 30,
   "metadata": {},
   "outputs": [
    {
     "name": "stdout",
     "output_type": "stream",
     "text": [
      "(60000, 2)\n"
     ]
    }
   ],
   "source": [
    "from sklearn.decomposition import PCA\n",
    "\n",
    "pca = PCA(n_components=2)\n",
    "reduced_data = pca.fit_transform(np.transpose(Xtraindata))\n",
    "print(reduced_data.shape)\n"
   ]
  },
  {
   "cell_type": "markdown",
   "metadata": {},
   "source": [
    "AI-generated code to visualize the PCA reduced data"
   ]
  },
  {
   "cell_type": "code",
   "execution_count": null,
   "metadata": {},
   "outputs": [],
   "source": [
    "plt.figure(figsize=(8, 6))\n",
    "plt.scatter(reduced_data[:, 0], reduced_data[:, 1], c=Ylabeldata, cmap='viridis', s=5)\n",
    "plt.colorbar(label='Label')\n",
    "plt.title('PCA Reduced Data')\n",
    "plt.xlabel('Principal Component 1')\n",
    "plt.ylabel('Principal Component 2')\n",
    "plt.show()"
   ]
  },
  {
   "cell_type": "code",
   "execution_count": null,
   "metadata": {},
   "outputs": [],
   "source": [
    "with open('data/FashionMNIST/raw/t10k-images-idx3-ubyte','rb') as f:\n",
    "    magic, size = struct.unpack(\">II\", f.read(8))\n",
    "    nrows, ncols = struct.unpack(\">II\", f.read(8))\n",
    "    data = np.fromfile(f, dtype=np.dtype(np.uint8).newbyteorder('>'))\n",
    "    # print(data.shape) # (47040000,)\n",
    "    Xtestdata = np.transpose(data.reshape((size, nrows*ncols)))\n",
    "\n",
    "with open('data/FashionMNIST/raw/t10k-labels-idx1-ubyte','rb') as f:\n",
    "    magic, size = struct.unpack(\">II\", f.read(8))\n",
    "    Ytestlabel = np.fromfile(f, dtype=np.dtype(np.uint8).newbyteorder('>'))\n",
    "    # print(data.shape) # (47040000,)"
   ]
  }
 ],
 "metadata": {
  "kernelspec": {
   "display_name": "Python 3",
   "language": "python",
   "name": "python3"
  },
  "language_info": {
   "codemirror_mode": {
    "name": "ipython",
    "version": 3
   },
   "file_extension": ".py",
   "mimetype": "text/x-python",
   "name": "python",
   "nbconvert_exporter": "python",
   "pygments_lexer": "ipython3",
   "version": "3.11.4"
  }
 },
 "nbformat": 4,
 "nbformat_minor": 2
}
