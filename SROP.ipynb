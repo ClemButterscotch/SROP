{
  "nbformat": 4,
  "nbformat_minor": 0,
  "metadata": {
    "colab": {
      "provenance": [],
      "include_colab_link": true
    },
    "kernelspec": {
      "name": "python3",
      "display_name": "Python 3"
    },
    "language_info": {
      "name": "python"
    }
  },
  "cells": [
    {
      "cell_type": "markdown",
      "metadata": {
        "id": "view-in-github",
        "colab_type": "text"
      },
      "source": [
        "<a href=\"https://colab.research.google.com/github/ClemButterscotch/SROP/blob/main/SROP.ipynb\" target=\"_parent\"><img src=\"https://colab.research.google.com/assets/colab-badge.svg\" alt=\"Open In Colab\"/></a>"
      ]
    },
    {
      "cell_type": "code",
      "execution_count": null,
      "metadata": {
        "id": "oUd414IzcV1D",
        "colab": {
          "base_uri": "https://localhost:8080/"
        },
        "outputId": "94521ab4-938f-48b9-be6d-113707a582d5"
      },
      "outputs": [
        {
          "output_type": "stream",
          "name": "stderr",
          "text": [
            "100%|██████████| 9.91M/9.91M [00:00<00:00, 41.7MB/s]\n",
            "100%|██████████| 28.9k/28.9k [00:00<00:00, 1.17MB/s]\n",
            "100%|██████████| 1.65M/1.65M [00:00<00:00, 10.6MB/s]\n",
            "100%|██████████| 4.54k/4.54k [00:00<00:00, 8.63MB/s]\n"
          ]
        }
      ],
      "source": [
        "from torchvision import datasets, transforms\n",
        "from torch.utils.data import DataLoader\n",
        "\n",
        "# Automatically downloads if not present\n",
        "mnist = datasets.MNIST(root='.', download=True, train=True,\n",
        "                       transform=transforms.ToTensor())\n",
        "\n",
        "loader = DataLoader(mnist, batch_size=64, shuffle=True)\n"
      ]
    },
    {
      "cell_type": "code",
      "source": [],
      "metadata": {
        "id": "ghTsudiDcoy-"
      },
      "execution_count": null,
      "outputs": []
    }
  ]
}